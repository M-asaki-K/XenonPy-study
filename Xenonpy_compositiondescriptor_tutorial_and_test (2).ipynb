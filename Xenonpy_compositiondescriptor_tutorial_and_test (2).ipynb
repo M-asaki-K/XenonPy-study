{
 "cells": [
  {
   "cell_type": "code",
   "execution_count": 3,
   "metadata": {},
   "outputs": [],
   "source": [
    "from xenonpy.datatools import preset\n",
    "import csv"
   ]
  },
  {
   "cell_type": "markdown",
   "metadata": {},
   "source": [
    "Materials Projectからサンプルデータを読み込む（api_keyは登録するともらえます）"
   ]
  },
  {
   "cell_type": "code",
   "execution_count": 4,
   "metadata": {},
   "outputs": [
    {
     "name": "stderr",
     "output_type": "stream",
     "text": [
      "100%|██████████| 10/10 [00:13<00:00,  1.35s/it]\n"
     ]
    }
   ],
   "source": [
    "preset.build('mp_samples', api_key='???')"
   ]
  },
  {
   "cell_type": "code",
   "execution_count": 2,
   "metadata": {},
   "outputs": [],
   "source": [
    "from xenonpy.datatools import Dataset"
   ]
  },
  {
   "cell_type": "code",
   "execution_count": 3,
   "metadata": {},
   "outputs": [
    {
     "name": "stdout",
     "output_type": "stream",
     "text": [
      "fetching dataset `elements` from https://github.com/yoshida-lab/dataset/releases/download/v0.1.3/elements.pd.xz.\n",
      "fetching dataset `elements_completed` from https://github.com/yoshida-lab/dataset/releases/download/v0.1.3/elements_completed.pd.xz.\n"
     ]
    }
   ],
   "source": [
    "from xenonpy.datatools import preset\n",
    "preset.sync('elements')\n",
    "preset.sync('elements_completed')"
   ]
  },
  {
   "cell_type": "markdown",
   "metadata": {},
   "source": [
    "記述子の計算パッケージをインポートする（内容は原子物性の加重平均、和、分散など）"
   ]
  },
  {
   "cell_type": "code",
   "execution_count": 12,
   "metadata": {},
   "outputs": [
    {
     "data": {
      "text/plain": [
       "Compositions:\n",
       "  |- composition:\n",
       "  |  |- Counting\n",
       "  |  |- WeightedAverage\n",
       "  |  |- WeightedSum\n",
       "  |  |- WeightedVariance\n",
       "  |  |- GeometricMean\n",
       "  |  |- HarmonicMean\n",
       "  |  |- MaxPooling\n",
       "  |  |- MinPooling"
      ]
     },
     "execution_count": 12,
     "metadata": {},
     "output_type": "execute_result"
    }
   ],
   "source": [
    "from xenonpy.descriptor import Compositions\n",
    "cal = Compositions()\n",
    "cal"
   ]
  },
  {
   "cell_type": "markdown",
   "metadata": {},
   "source": [
    "Materials Projectから抽出したサンプルデータを確認する"
   ]
  },
  {
   "cell_type": "code",
   "execution_count": 32,
   "metadata": {},
   "outputs": [
    {
     "data": {
      "text/html": [
       "<div>\n",
       "<style scoped>\n",
       "    .dataframe tbody tr th:only-of-type {\n",
       "        vertical-align: middle;\n",
       "    }\n",
       "\n",
       "    .dataframe tbody tr th {\n",
       "        vertical-align: top;\n",
       "    }\n",
       "\n",
       "    .dataframe thead th {\n",
       "        text-align: right;\n",
       "    }\n",
       "</style>\n",
       "<table border=\"1\" class=\"dataframe\">\n",
       "  <thead>\n",
       "    <tr style=\"text-align: right;\">\n",
       "      <th></th>\n",
       "      <th>band_gap</th>\n",
       "      <th>composition</th>\n",
       "      <th>density</th>\n",
       "      <th>e_above_hull</th>\n",
       "      <th>efermi</th>\n",
       "      <th>elements</th>\n",
       "      <th>final_energy_per_atom</th>\n",
       "      <th>formation_energy_per_atom</th>\n",
       "      <th>pretty_formula</th>\n",
       "      <th>structure</th>\n",
       "      <th>volume</th>\n",
       "    </tr>\n",
       "  </thead>\n",
       "  <tbody>\n",
       "    <tr>\n",
       "      <th>mp-1008807</th>\n",
       "      <td>0.0000</td>\n",
       "      <td>{'Rb': 1.0, 'Cu': 1.0, 'O': 1.0}</td>\n",
       "      <td>4.693790</td>\n",
       "      <td>0.996645</td>\n",
       "      <td>1.10062</td>\n",
       "      <td>[Rb, Cu, O]</td>\n",
       "      <td>-3.302398</td>\n",
       "      <td>-0.188318</td>\n",
       "      <td>RbCuO</td>\n",
       "      <td>[[ 3.07896472  3.07896472 -3.07896472] Rb, [0....</td>\n",
       "      <td>58.377317</td>\n",
       "    </tr>\n",
       "    <tr>\n",
       "      <th>mp-1009640</th>\n",
       "      <td>0.0000</td>\n",
       "      <td>{'Pr': 1.0, 'N': 1.0}</td>\n",
       "      <td>8.145777</td>\n",
       "      <td>0.759393</td>\n",
       "      <td>5.21767</td>\n",
       "      <td>[Pr, N]</td>\n",
       "      <td>-7.082624</td>\n",
       "      <td>-0.714548</td>\n",
       "      <td>PrN</td>\n",
       "      <td>[[0. 0. 0.] Pr, [1.57925232 1.57925232 1.58276...</td>\n",
       "      <td>31.579717</td>\n",
       "    </tr>\n",
       "    <tr>\n",
       "      <th>mp-1016825</th>\n",
       "      <td>0.7867</td>\n",
       "      <td>{'Hf': 1.0, 'Mg': 1.0, 'O': 3.0}</td>\n",
       "      <td>6.165888</td>\n",
       "      <td>0.589550</td>\n",
       "      <td>2.42457</td>\n",
       "      <td>[Hf, Mg, O]</td>\n",
       "      <td>-7.911723</td>\n",
       "      <td>-3.064161</td>\n",
       "      <td>HfMgO3</td>\n",
       "      <td>[[2.03622802 2.03622802 2.03622802] Hf, [0. 0....</td>\n",
       "      <td>67.541269</td>\n",
       "    </tr>\n",
       "    <tr>\n",
       "      <th>mp-1017582</th>\n",
       "      <td>0.0000</td>\n",
       "      <td>{'La': 1.0, 'Pt': 3.0, 'C': 1.0}</td>\n",
       "      <td>14.284261</td>\n",
       "      <td>0.519116</td>\n",
       "      <td>8.1605</td>\n",
       "      <td>[La, Pt, C]</td>\n",
       "      <td>-6.684482</td>\n",
       "      <td>-0.219971</td>\n",
       "      <td>LaPt3C</td>\n",
       "      <td>[[0. 0. 0.] La, [0.         2.20339716 2.20339...</td>\n",
       "      <td>85.579224</td>\n",
       "    </tr>\n",
       "    <tr>\n",
       "      <th>mp-1021511</th>\n",
       "      <td>1.5186</td>\n",
       "      <td>{'Cd': 1.0, 'S': 1.0}</td>\n",
       "      <td>2.582691</td>\n",
       "      <td>0.252860</td>\n",
       "      <td>-2.12118</td>\n",
       "      <td>[Cd, S]</td>\n",
       "      <td>-2.909105</td>\n",
       "      <td>-0.719529</td>\n",
       "      <td>CdS</td>\n",
       "      <td>[[2.12807605 1.22864286 2.67990375] Cd, [-2.46...</td>\n",
       "      <td>92.890725</td>\n",
       "    </tr>\n",
       "  </tbody>\n",
       "</table>\n",
       "</div>"
      ],
      "text/plain": [
       "            band_gap                       composition    density  \\\n",
       "mp-1008807    0.0000  {'Rb': 1.0, 'Cu': 1.0, 'O': 1.0}   4.693790   \n",
       "mp-1009640    0.0000             {'Pr': 1.0, 'N': 1.0}   8.145777   \n",
       "mp-1016825    0.7867  {'Hf': 1.0, 'Mg': 1.0, 'O': 3.0}   6.165888   \n",
       "mp-1017582    0.0000  {'La': 1.0, 'Pt': 3.0, 'C': 1.0}  14.284261   \n",
       "mp-1021511    1.5186             {'Cd': 1.0, 'S': 1.0}   2.582691   \n",
       "\n",
       "            e_above_hull   efermi     elements  final_energy_per_atom  \\\n",
       "mp-1008807      0.996645  1.10062  [Rb, Cu, O]              -3.302398   \n",
       "mp-1009640      0.759393  5.21767      [Pr, N]              -7.082624   \n",
       "mp-1016825      0.589550  2.42457  [Hf, Mg, O]              -7.911723   \n",
       "mp-1017582      0.519116   8.1605  [La, Pt, C]              -6.684482   \n",
       "mp-1021511      0.252860 -2.12118      [Cd, S]              -2.909105   \n",
       "\n",
       "            formation_energy_per_atom pretty_formula  \\\n",
       "mp-1008807                  -0.188318          RbCuO   \n",
       "mp-1009640                  -0.714548            PrN   \n",
       "mp-1016825                  -3.064161         HfMgO3   \n",
       "mp-1017582                  -0.219971         LaPt3C   \n",
       "mp-1021511                  -0.719529            CdS   \n",
       "\n",
       "                                                    structure     volume  \n",
       "mp-1008807  [[ 3.07896472  3.07896472 -3.07896472] Rb, [0....  58.377317  \n",
       "mp-1009640  [[0. 0. 0.] Pr, [1.57925232 1.57925232 1.58276...  31.579717  \n",
       "mp-1016825  [[2.03622802 2.03622802 2.03622802] Hf, [0. 0....  67.541269  \n",
       "mp-1017582  [[0. 0. 0.] La, [0.         2.20339716 2.20339...  85.579224  \n",
       "mp-1021511  [[2.12807605 1.22864286 2.67990375] Cd, [-2.46...  92.890725  "
      ]
     },
     "execution_count": 32,
     "metadata": {},
     "output_type": "execute_result"
    }
   ],
   "source": [
    "from xenonpy.datatools import preset\n",
    "samples = preset.mp_samples\n",
    "samples.head()\n"
   ]
  },
  {
   "cell_type": "markdown",
   "metadata": {},
   "source": [
    "サンプルデータの組成式（composition）に対し、記述子を計算"
   ]
  },
  {
   "cell_type": "code",
   "execution_count": 33,
   "metadata": {
    "scrolled": true
   },
   "outputs": [
    {
     "data": {
      "text/html": [
       "<div>\n",
       "<style scoped>\n",
       "    .dataframe tbody tr th:only-of-type {\n",
       "        vertical-align: middle;\n",
       "    }\n",
       "\n",
       "    .dataframe tbody tr th {\n",
       "        vertical-align: top;\n",
       "    }\n",
       "\n",
       "    .dataframe thead th {\n",
       "        text-align: right;\n",
       "    }\n",
       "</style>\n",
       "<table border=\"1\" class=\"dataframe\">\n",
       "  <thead>\n",
       "    <tr style=\"text-align: right;\">\n",
       "      <th></th>\n",
       "      <th>ave:atomic_number</th>\n",
       "      <th>ave:atomic_radius</th>\n",
       "      <th>ave:atomic_radius_rahm</th>\n",
       "      <th>ave:atomic_volume</th>\n",
       "      <th>ave:atomic_weight</th>\n",
       "      <th>ave:boiling_point</th>\n",
       "      <th>ave:bulk_modulus</th>\n",
       "      <th>ave:c6_gb</th>\n",
       "      <th>ave:covalent_radius_cordero</th>\n",
       "      <th>ave:covalent_radius_pyykko</th>\n",
       "      <th>...</th>\n",
       "      <th>min:num_s_valence</th>\n",
       "      <th>min:period</th>\n",
       "      <th>min:specific_heat</th>\n",
       "      <th>min:thermal_conductivity</th>\n",
       "      <th>min:vdw_radius</th>\n",
       "      <th>min:vdw_radius_alvarez</th>\n",
       "      <th>min:vdw_radius_mm3</th>\n",
       "      <th>min:vdw_radius_uff</th>\n",
       "      <th>min:sound_velocity</th>\n",
       "      <th>min:Polarizability</th>\n",
       "    </tr>\n",
       "  </thead>\n",
       "  <tbody>\n",
       "    <tr>\n",
       "      <th>mp-1009640</th>\n",
       "      <td>33.0</td>\n",
       "      <td>137.000000</td>\n",
       "      <td>232.5</td>\n",
       "      <td>19.05</td>\n",
       "      <td>77.457330</td>\n",
       "      <td>1931.200</td>\n",
       "      <td>43.182441</td>\n",
       "      <td>1892.85</td>\n",
       "      <td>137.0</td>\n",
       "      <td>123.5</td>\n",
       "      <td>...</td>\n",
       "      <td>2.0</td>\n",
       "      <td>2.0</td>\n",
       "      <td>0.192</td>\n",
       "      <td>0.02583</td>\n",
       "      <td>155.0</td>\n",
       "      <td>166.0</td>\n",
       "      <td>193.0</td>\n",
       "      <td>360.6</td>\n",
       "      <td>333.6</td>\n",
       "      <td>1.100</td>\n",
       "    </tr>\n",
       "    <tr>\n",
       "      <th>mp-1016825</th>\n",
       "      <td>21.6</td>\n",
       "      <td>153.120852</td>\n",
       "      <td>203.4</td>\n",
       "      <td>13.92</td>\n",
       "      <td>50.158400</td>\n",
       "      <td>1420.714</td>\n",
       "      <td>76.663625</td>\n",
       "      <td>343.82</td>\n",
       "      <td>102.8</td>\n",
       "      <td>96.0</td>\n",
       "      <td>...</td>\n",
       "      <td>2.0</td>\n",
       "      <td>2.0</td>\n",
       "      <td>0.146</td>\n",
       "      <td>0.02658</td>\n",
       "      <td>152.0</td>\n",
       "      <td>150.0</td>\n",
       "      <td>182.0</td>\n",
       "      <td>302.1</td>\n",
       "      <td>317.5</td>\n",
       "      <td>0.802</td>\n",
       "    </tr>\n",
       "    <tr>\n",
       "      <th>mp-1017582</th>\n",
       "      <td>59.4</td>\n",
       "      <td>139.000000</td>\n",
       "      <td>232.8</td>\n",
       "      <td>11.02</td>\n",
       "      <td>147.233694</td>\n",
       "      <td>4226.000</td>\n",
       "      <td>150.200000</td>\n",
       "      <td>1037.58</td>\n",
       "      <td>137.6</td>\n",
       "      <td>124.8</td>\n",
       "      <td>...</td>\n",
       "      <td>1.0</td>\n",
       "      <td>2.0</td>\n",
       "      <td>0.133</td>\n",
       "      <td>13.00000</td>\n",
       "      <td>170.0</td>\n",
       "      <td>177.0</td>\n",
       "      <td>204.0</td>\n",
       "      <td>275.4</td>\n",
       "      <td>2475.0</td>\n",
       "      <td>1.670</td>\n",
       "    </tr>\n",
       "    <tr>\n",
       "      <th>mp-1021511</th>\n",
       "      <td>32.0</td>\n",
       "      <td>140.500000</td>\n",
       "      <td>226.0</td>\n",
       "      <td>14.30</td>\n",
       "      <td>72.237000</td>\n",
       "      <td>877.912</td>\n",
       "      <td>24.850000</td>\n",
       "      <td>272.50</td>\n",
       "      <td>124.5</td>\n",
       "      <td>119.5</td>\n",
       "      <td>...</td>\n",
       "      <td>2.0</td>\n",
       "      <td>3.0</td>\n",
       "      <td>0.232</td>\n",
       "      <td>0.20500</td>\n",
       "      <td>180.0</td>\n",
       "      <td>189.0</td>\n",
       "      <td>215.0</td>\n",
       "      <td>284.8</td>\n",
       "      <td>2310.0</td>\n",
       "      <td>2.900</td>\n",
       "    </tr>\n",
       "  </tbody>\n",
       "</table>\n",
       "<p>4 rows × 290 columns</p>\n",
       "</div>"
      ],
      "text/plain": [
       "            ave:atomic_number  ave:atomic_radius  ave:atomic_radius_rahm  \\\n",
       "mp-1009640               33.0         137.000000                   232.5   \n",
       "mp-1016825               21.6         153.120852                   203.4   \n",
       "mp-1017582               59.4         139.000000                   232.8   \n",
       "mp-1021511               32.0         140.500000                   226.0   \n",
       "\n",
       "            ave:atomic_volume  ave:atomic_weight  ave:boiling_point  \\\n",
       "mp-1009640              19.05          77.457330           1931.200   \n",
       "mp-1016825              13.92          50.158400           1420.714   \n",
       "mp-1017582              11.02         147.233694           4226.000   \n",
       "mp-1021511              14.30          72.237000            877.912   \n",
       "\n",
       "            ave:bulk_modulus  ave:c6_gb  ave:covalent_radius_cordero  \\\n",
       "mp-1009640         43.182441    1892.85                        137.0   \n",
       "mp-1016825         76.663625     343.82                        102.8   \n",
       "mp-1017582        150.200000    1037.58                        137.6   \n",
       "mp-1021511         24.850000     272.50                        124.5   \n",
       "\n",
       "            ave:covalent_radius_pyykko  ...  min:num_s_valence  min:period  \\\n",
       "mp-1009640                       123.5  ...                2.0         2.0   \n",
       "mp-1016825                        96.0  ...                2.0         2.0   \n",
       "mp-1017582                       124.8  ...                1.0         2.0   \n",
       "mp-1021511                       119.5  ...                2.0         3.0   \n",
       "\n",
       "            min:specific_heat  min:thermal_conductivity  min:vdw_radius  \\\n",
       "mp-1009640              0.192                   0.02583           155.0   \n",
       "mp-1016825              0.146                   0.02658           152.0   \n",
       "mp-1017582              0.133                  13.00000           170.0   \n",
       "mp-1021511              0.232                   0.20500           180.0   \n",
       "\n",
       "            min:vdw_radius_alvarez  min:vdw_radius_mm3  min:vdw_radius_uff  \\\n",
       "mp-1009640                   166.0               193.0               360.6   \n",
       "mp-1016825                   150.0               182.0               302.1   \n",
       "mp-1017582                   177.0               204.0               275.4   \n",
       "mp-1021511                   189.0               215.0               284.8   \n",
       "\n",
       "            min:sound_velocity  min:Polarizability  \n",
       "mp-1009640               333.6               1.100  \n",
       "mp-1016825               317.5               0.802  \n",
       "mp-1017582              2475.0               1.670  \n",
       "mp-1021511              2310.0               2.900  \n",
       "\n",
       "[4 rows x 290 columns]"
      ]
     },
     "execution_count": 33,
     "metadata": {},
     "output_type": "execute_result"
    }
   ],
   "source": [
    "comps = samples['composition']\n",
    "descriptor = cal.transform(comps[1:5])　#はじめ4行だけ計算\n",
    "descriptor.head()"
   ]
  },
  {
   "cell_type": "markdown",
   "metadata": {},
   "source": [
    "今度は手動で抽出してきた金属酸化物のデータセットを読み込む"
   ]
  },
  {
   "cell_type": "code",
   "execution_count": 7,
   "metadata": {},
   "outputs": [
    {
     "data": {
      "text/html": [
       "<div>\n",
       "<style scoped>\n",
       "    .dataframe tbody tr th:only-of-type {\n",
       "        vertical-align: middle;\n",
       "    }\n",
       "\n",
       "    .dataframe tbody tr th {\n",
       "        vertical-align: top;\n",
       "    }\n",
       "\n",
       "    .dataframe thead th {\n",
       "        text-align: right;\n",
       "    }\n",
       "</style>\n",
       "<table border=\"1\" class=\"dataframe\">\n",
       "  <thead>\n",
       "    <tr style=\"text-align: right;\">\n",
       "      <th></th>\n",
       "      <th>Materials Id</th>\n",
       "      <th>Formula</th>\n",
       "      <th>Spacegroup</th>\n",
       "      <th>Formation Energy (eV)</th>\n",
       "      <th>E Above Hull (eV)</th>\n",
       "      <th>Band Gap (eV)</th>\n",
       "      <th>Has Bandstructure</th>\n",
       "      <th>Volume</th>\n",
       "      <th>Nsites</th>\n",
       "      <th>Theoretical</th>\n",
       "      <th>Count</th>\n",
       "      <th>Density (gm/cc)</th>\n",
       "      <th>Crystal System</th>\n",
       "    </tr>\n",
       "  </thead>\n",
       "  <tbody>\n",
       "    <tr>\n",
       "      <th>0</th>\n",
       "      <td>mp-1056</td>\n",
       "      <td>Tb2O3</td>\n",
       "      <td>Ia3</td>\n",
       "      <td>-4.007</td>\n",
       "      <td>0.0</td>\n",
       "      <td>3.901</td>\n",
       "      <td>True</td>\n",
       "      <td>620.129</td>\n",
       "      <td>40</td>\n",
       "      <td>False</td>\n",
       "      <td>2276.0</td>\n",
       "      <td>7.837</td>\n",
       "      <td>cubic</td>\n",
       "    </tr>\n",
       "    <tr>\n",
       "      <th>1</th>\n",
       "      <td>mp-560190</td>\n",
       "      <td>Mo8O23</td>\n",
       "      <td>P2/c</td>\n",
       "      <td>-2.044</td>\n",
       "      <td>0.0</td>\n",
       "      <td>1.038</td>\n",
       "      <td>False</td>\n",
       "      <td>1858.315</td>\n",
       "      <td>124</td>\n",
       "      <td>True</td>\n",
       "      <td>NaN</td>\n",
       "      <td>4.059</td>\n",
       "      <td>monoclinic</td>\n",
       "    </tr>\n",
       "    <tr>\n",
       "      <th>2</th>\n",
       "      <td>mp-753746</td>\n",
       "      <td>Rb2O</td>\n",
       "      <td>R3m</td>\n",
       "      <td>-1.120</td>\n",
       "      <td>0.0</td>\n",
       "      <td>0.458</td>\n",
       "      <td>True</td>\n",
       "      <td>96.208</td>\n",
       "      <td>3</td>\n",
       "      <td>True</td>\n",
       "      <td>NaN</td>\n",
       "      <td>3.226</td>\n",
       "      <td>trigonal</td>\n",
       "    </tr>\n",
       "    <tr>\n",
       "      <th>3</th>\n",
       "      <td>mp-1605</td>\n",
       "      <td>Ag3O4</td>\n",
       "      <td>P21/c</td>\n",
       "      <td>-0.424</td>\n",
       "      <td>0.0</td>\n",
       "      <td>0.000</td>\n",
       "      <td>True</td>\n",
       "      <td>196.383</td>\n",
       "      <td>14</td>\n",
       "      <td>False</td>\n",
       "      <td>NaN</td>\n",
       "      <td>6.555</td>\n",
       "      <td>monoclinic</td>\n",
       "    </tr>\n",
       "    <tr>\n",
       "      <th>4</th>\n",
       "      <td>mp-1959</td>\n",
       "      <td>PuO2</td>\n",
       "      <td>Fm3m</td>\n",
       "      <td>-3.628</td>\n",
       "      <td>0.0</td>\n",
       "      <td>0.000</td>\n",
       "      <td>True</td>\n",
       "      <td>39.034</td>\n",
       "      <td>3</td>\n",
       "      <td>False</td>\n",
       "      <td>NaN</td>\n",
       "      <td>11.741</td>\n",
       "      <td>cubic</td>\n",
       "    </tr>\n",
       "  </tbody>\n",
       "</table>\n",
       "</div>"
      ],
      "text/plain": [
       "  Materials Id Formula Spacegroup  Formation Energy (eV)  E Above Hull (eV)  \\\n",
       "0      mp-1056   Tb2O3        Ia3                 -4.007                0.0   \n",
       "1    mp-560190  Mo8O23       P2/c                 -2.044                0.0   \n",
       "2    mp-753746    Rb2O        R3m                 -1.120                0.0   \n",
       "3      mp-1605   Ag3O4      P21/c                 -0.424                0.0   \n",
       "4      mp-1959    PuO2       Fm3m                 -3.628                0.0   \n",
       "\n",
       "   Band Gap (eV)  Has Bandstructure    Volume  Nsites  Theoretical   Count  \\\n",
       "0          3.901               True   620.129      40        False  2276.0   \n",
       "1          1.038              False  1858.315     124         True     NaN   \n",
       "2          0.458               True    96.208       3         True     NaN   \n",
       "3          0.000               True   196.383      14        False     NaN   \n",
       "4          0.000               True    39.034       3        False     NaN   \n",
       "\n",
       "   Density (gm/cc) Crystal System  \n",
       "0            7.837          cubic  \n",
       "1            4.059     monoclinic  \n",
       "2            3.226       trigonal  \n",
       "3            6.555     monoclinic  \n",
       "4           11.741          cubic  "
      ]
     },
     "execution_count": 7,
     "metadata": {},
     "output_type": "execute_result"
    }
   ],
   "source": [
    "import pandas as pd\n",
    "import pymatgen as mt\n",
    "dfrev = pd.DataFrame(pd.read_csv('Materials Project comp.csv'))\n",
    "dfrev.head()"
   ]
  },
  {
   "cell_type": "markdown",
   "metadata": {},
   "source": [
    "読み込んだファイルの組成式をdictタイプに変更し書き出す"
   ]
  },
  {
   "cell_type": "code",
   "execution_count": 9,
   "metadata": {},
   "outputs": [
    {
     "data": {
      "text/plain": [
       "0      (Tb, O)\n",
       "1      (Mo, O)\n",
       "2      (Rb, O)\n",
       "3      (Ag, O)\n",
       "4      (Pu, O)\n",
       "        ...   \n",
       "495    (Ti, O)\n",
       "496    (Fe, O)\n",
       "497    (Si, O)\n",
       "498     (B, O)\n",
       "499    (Rb, O)\n",
       "Name: composition, Length: 500, dtype: object"
      ]
     },
     "execution_count": 9,
     "metadata": {},
     "output_type": "execute_result"
    }
   ],
   "source": [
    "list_df_1 = pd.DataFrame( columns=['A', 'composition'] )\n",
    "\n",
    "for i in range(dfrev.shape[0]):\n",
    "    tmp_se_1 = pd.Series( [ i, (mt.Composition(dfrev[\"Formula\"][i])) ], index=list_df_1.columns )\n",
    "    list_df_1 = list_df_1.append( tmp_se_1, ignore_index=True )\n",
    "\n",
    "(list_df_1['composition'])\n"
   ]
  },
  {
   "cell_type": "code",
   "execution_count": 10,
   "metadata": {},
   "outputs": [
    {
     "data": {
      "text/plain": [
       "'Mo8O23'"
      ]
     },
     "execution_count": 10,
     "metadata": {},
     "output_type": "execute_result"
    }
   ],
   "source": [
    "dfrev[\"Formula\"][1]"
   ]
  },
  {
   "cell_type": "markdown",
   "metadata": {},
   "source": [
    "新たなデータセットに対し、記述子を計算\n",
    "（前段のようにいったんdict形式にしないと、計算されない仕様）"
   ]
  },
  {
   "cell_type": "code",
   "execution_count": null,
   "metadata": {},
   "outputs": [],
   "source": [
    "compsrev_1 = list_df_1['composition']\n",
    "descriptorrev_1 = cal.transform(compsrev_1)\n",
    "descriptorrev_1"
   ]
  },
  {
   "cell_type": "code",
   "execution_count": 21,
   "metadata": {},
   "outputs": [],
   "source": [
    "descriptorrev_1.to_csv(\"Descriptorcal_cat1.csv\")"
   ]
  },
  {
   "cell_type": "code",
   "execution_count": 22,
   "metadata": {},
   "outputs": [],
   "source": [
    "list_df_2 = pd.DataFrame( columns=['A', 'composition'] )\n",
    "\n",
    "for i in range(dfrev.shape[0]):\n",
    "    tmp_se_2 = pd.Series( [ i, (mt.Composition(dfrev[\"cat2\"][i])) ], index=list_df_2.columns )\n",
    "    list_df_2 = list_df_2.append( tmp_se_2, ignore_index=True )\n",
    "\n",
    "(list_df_2['composition'])\n",
    "\n",
    "compsrev_2 = list_df_2['composition']\n",
    "descriptorrev_2 = cal.transform(compsrev_2)\n",
    "descriptorrev_2.to_csv(\"Descriptorcal_cat2.csv\")"
   ]
  },
  {
   "cell_type": "code",
   "execution_count": 23,
   "metadata": {},
   "outputs": [],
   "source": [
    "list_df_3 = pd.DataFrame( columns=['A', 'composition'] )\n",
    "\n",
    "for i in range(dfrev.shape[0]):\n",
    "    tmp_se_3 = pd.Series( [ i, (mt.Composition(dfrev[\"base\"][i])) ], index=list_df_3.columns )\n",
    "    list_df_3 = list_df_3.append( tmp_se_3, ignore_index=True )\n",
    "\n",
    "(list_df_3['composition'])\n",
    "\n",
    "compsrev_3 = list_df_3['composition']\n",
    "descriptorrev_3 = cal.transform(compsrev_3)\n",
    "descriptorrev_3.to_csv(\"Descriptorcal_base.csv\")"
   ]
  },
  {
   "cell_type": "code",
   "execution_count": null,
   "metadata": {},
   "outputs": [],
   "source": []
  }
 ],
 "metadata": {
  "kernelspec": {
   "display_name": "Python 3",
   "language": "python",
   "name": "python3"
  },
  "language_info": {
   "codemirror_mode": {
    "name": "ipython",
    "version": 3
   },
   "file_extension": ".py",
   "mimetype": "text/x-python",
   "name": "python",
   "nbconvert_exporter": "python",
   "pygments_lexer": "ipython3",
   "version": "3.7.7"
  }
 },
 "nbformat": 4,
 "nbformat_minor": 4
}
